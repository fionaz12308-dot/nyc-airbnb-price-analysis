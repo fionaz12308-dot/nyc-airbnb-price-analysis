{
 "cells": [
  {
   "cell_type": "markdown",
   "id": "89830d9e-66e8-4832-8628-6af46613b9cf",
   "metadata": {},
   "source": [
    "# New York City Airbnb study"
   ]
  },
  {
   "cell_type": "markdown",
   "id": "383234dc-3468-4422-99b0-1dfe2d6359ac",
   "metadata": {},
   "source": [
    "## Introduction\n",
    "    This study analyzes the rental market in New York City Airbnb using a comprehensive dataset from 2019, which contains 48,894 observations across 16 variables. From these variables, we specifically focus on four key metrics: price, neighbourhood group, room type, and number of reviews. The primary purpose of this analysis are to:\n",
    "    1. Examine price differentials across different geographical locations within NYC\n",
    "    2. Analyze price differentials among various room types\n",
    "    3. Investigate potential correlations between the number of reviews and pricing\n",
    "    By focusing on these aspects, this study aims to provide valuable insights into market dynamics and help Airbnb hosts optimize their pricing strategies in the NYC"
   ]
  },
  {
   "cell_type": "markdown",
   "id": "b6e2fad7-443a-47ae-a9ce-fbe5e37c0c9a",
   "metadata": {},
   "source": [
    "##  1. Data Cleaning and Preprocessing"
   ]
  },
  {
   "cell_type": "code",
   "execution_count": 146,
   "id": "475e6db2-8b13-43d7-a992-b430fd9fb979",
   "metadata": {},
   "outputs": [],
   "source": [
    "import pandas as pd\n",
    "import numpy as np\n",
    "import matplotlib.pyplot as plt\n",
    "import matplotlib.dates as mdates\n",
    "import seaborn as sns\n",
    "\n",
    "sales = pd.read_csv('AB_NYC_2019_72a7dadcc6bdb85ead26987cdd0af151.csv')"
   ]
  },
  {
   "cell_type": "markdown",
   "id": "0a7a2a23-61eb-4df2-822f-0527e606a798",
   "metadata": {},
   "source": [
    "###  1.1 Identification of misssing values\n",
    "Initial dataset identified missing values in four variables:  \r\n",
    "- name (16 miss)\n",
    "- host_name(21 miss)\n",
    "- last_review(10052 miss)\n",
    "- reviews_per_month (10052 miss)\n",
    "  \r\n",
    "\r\n",
    "\r\n",
    ")  sis."
   ]
  },
  {
   "cell_type": "code",
   "execution_count": 44,
   "id": "e7e34380-bbef-4ae7-b322-e88ef7a78bdf",
   "metadata": {},
   "outputs": [
    {
     "data": {
      "text/html": [
       "<div>\n",
       "<style scoped>\n",
       "    .dataframe tbody tr th:only-of-type {\n",
       "        vertical-align: middle;\n",
       "    }\n",
       "\n",
       "    .dataframe tbody tr th {\n",
       "        vertical-align: top;\n",
       "    }\n",
       "\n",
       "    .dataframe thead th {\n",
       "        text-align: right;\n",
       "    }\n",
       "</style>\n",
       "<table border=\"1\" class=\"dataframe\">\n",
       "  <thead>\n",
       "    <tr style=\"text-align: right;\">\n",
       "      <th></th>\n",
       "      <th>id</th>\n",
       "      <th>name</th>\n",
       "      <th>host_id</th>\n",
       "      <th>host_name</th>\n",
       "      <th>neighbourhood_group</th>\n",
       "      <th>neighbourhood</th>\n",
       "      <th>latitude</th>\n",
       "      <th>longitude</th>\n",
       "      <th>room_type</th>\n",
       "      <th>price</th>\n",
       "      <th>minimum_nights</th>\n",
       "      <th>number_of_reviews</th>\n",
       "      <th>last_review</th>\n",
       "      <th>reviews_per_month</th>\n",
       "      <th>calculated_host_listings_count</th>\n",
       "      <th>availability_365</th>\n",
       "    </tr>\n",
       "  </thead>\n",
       "  <tbody>\n",
       "    <tr>\n",
       "      <th>0</th>\n",
       "      <td>False</td>\n",
       "      <td>False</td>\n",
       "      <td>False</td>\n",
       "      <td>False</td>\n",
       "      <td>False</td>\n",
       "      <td>False</td>\n",
       "      <td>False</td>\n",
       "      <td>False</td>\n",
       "      <td>False</td>\n",
       "      <td>False</td>\n",
       "      <td>False</td>\n",
       "      <td>False</td>\n",
       "      <td>False</td>\n",
       "      <td>False</td>\n",
       "      <td>False</td>\n",
       "      <td>False</td>\n",
       "    </tr>\n",
       "    <tr>\n",
       "      <th>1</th>\n",
       "      <td>False</td>\n",
       "      <td>False</td>\n",
       "      <td>False</td>\n",
       "      <td>False</td>\n",
       "      <td>False</td>\n",
       "      <td>False</td>\n",
       "      <td>False</td>\n",
       "      <td>False</td>\n",
       "      <td>False</td>\n",
       "      <td>False</td>\n",
       "      <td>False</td>\n",
       "      <td>False</td>\n",
       "      <td>False</td>\n",
       "      <td>False</td>\n",
       "      <td>False</td>\n",
       "      <td>False</td>\n",
       "    </tr>\n",
       "    <tr>\n",
       "      <th>2</th>\n",
       "      <td>False</td>\n",
       "      <td>False</td>\n",
       "      <td>False</td>\n",
       "      <td>False</td>\n",
       "      <td>False</td>\n",
       "      <td>False</td>\n",
       "      <td>False</td>\n",
       "      <td>False</td>\n",
       "      <td>False</td>\n",
       "      <td>False</td>\n",
       "      <td>False</td>\n",
       "      <td>False</td>\n",
       "      <td>True</td>\n",
       "      <td>True</td>\n",
       "      <td>False</td>\n",
       "      <td>False</td>\n",
       "    </tr>\n",
       "    <tr>\n",
       "      <th>3</th>\n",
       "      <td>False</td>\n",
       "      <td>False</td>\n",
       "      <td>False</td>\n",
       "      <td>False</td>\n",
       "      <td>False</td>\n",
       "      <td>False</td>\n",
       "      <td>False</td>\n",
       "      <td>False</td>\n",
       "      <td>False</td>\n",
       "      <td>False</td>\n",
       "      <td>False</td>\n",
       "      <td>False</td>\n",
       "      <td>False</td>\n",
       "      <td>False</td>\n",
       "      <td>False</td>\n",
       "      <td>False</td>\n",
       "    </tr>\n",
       "    <tr>\n",
       "      <th>4</th>\n",
       "      <td>False</td>\n",
       "      <td>False</td>\n",
       "      <td>False</td>\n",
       "      <td>False</td>\n",
       "      <td>False</td>\n",
       "      <td>False</td>\n",
       "      <td>False</td>\n",
       "      <td>False</td>\n",
       "      <td>False</td>\n",
       "      <td>False</td>\n",
       "      <td>False</td>\n",
       "      <td>False</td>\n",
       "      <td>False</td>\n",
       "      <td>False</td>\n",
       "      <td>False</td>\n",
       "      <td>False</td>\n",
       "    </tr>\n",
       "    <tr>\n",
       "      <th>...</th>\n",
       "      <td>...</td>\n",
       "      <td>...</td>\n",
       "      <td>...</td>\n",
       "      <td>...</td>\n",
       "      <td>...</td>\n",
       "      <td>...</td>\n",
       "      <td>...</td>\n",
       "      <td>...</td>\n",
       "      <td>...</td>\n",
       "      <td>...</td>\n",
       "      <td>...</td>\n",
       "      <td>...</td>\n",
       "      <td>...</td>\n",
       "      <td>...</td>\n",
       "      <td>...</td>\n",
       "      <td>...</td>\n",
       "    </tr>\n",
       "    <tr>\n",
       "      <th>48890</th>\n",
       "      <td>False</td>\n",
       "      <td>False</td>\n",
       "      <td>False</td>\n",
       "      <td>False</td>\n",
       "      <td>False</td>\n",
       "      <td>False</td>\n",
       "      <td>False</td>\n",
       "      <td>False</td>\n",
       "      <td>False</td>\n",
       "      <td>False</td>\n",
       "      <td>False</td>\n",
       "      <td>False</td>\n",
       "      <td>True</td>\n",
       "      <td>True</td>\n",
       "      <td>False</td>\n",
       "      <td>False</td>\n",
       "    </tr>\n",
       "    <tr>\n",
       "      <th>48891</th>\n",
       "      <td>False</td>\n",
       "      <td>False</td>\n",
       "      <td>False</td>\n",
       "      <td>False</td>\n",
       "      <td>False</td>\n",
       "      <td>False</td>\n",
       "      <td>False</td>\n",
       "      <td>False</td>\n",
       "      <td>False</td>\n",
       "      <td>False</td>\n",
       "      <td>False</td>\n",
       "      <td>False</td>\n",
       "      <td>True</td>\n",
       "      <td>True</td>\n",
       "      <td>False</td>\n",
       "      <td>False</td>\n",
       "    </tr>\n",
       "    <tr>\n",
       "      <th>48892</th>\n",
       "      <td>False</td>\n",
       "      <td>False</td>\n",
       "      <td>False</td>\n",
       "      <td>False</td>\n",
       "      <td>False</td>\n",
       "      <td>False</td>\n",
       "      <td>False</td>\n",
       "      <td>False</td>\n",
       "      <td>False</td>\n",
       "      <td>False</td>\n",
       "      <td>False</td>\n",
       "      <td>False</td>\n",
       "      <td>True</td>\n",
       "      <td>True</td>\n",
       "      <td>False</td>\n",
       "      <td>False</td>\n",
       "    </tr>\n",
       "    <tr>\n",
       "      <th>48893</th>\n",
       "      <td>False</td>\n",
       "      <td>False</td>\n",
       "      <td>False</td>\n",
       "      <td>False</td>\n",
       "      <td>False</td>\n",
       "      <td>False</td>\n",
       "      <td>False</td>\n",
       "      <td>False</td>\n",
       "      <td>False</td>\n",
       "      <td>False</td>\n",
       "      <td>False</td>\n",
       "      <td>False</td>\n",
       "      <td>True</td>\n",
       "      <td>True</td>\n",
       "      <td>False</td>\n",
       "      <td>False</td>\n",
       "    </tr>\n",
       "    <tr>\n",
       "      <th>48894</th>\n",
       "      <td>False</td>\n",
       "      <td>False</td>\n",
       "      <td>False</td>\n",
       "      <td>False</td>\n",
       "      <td>False</td>\n",
       "      <td>False</td>\n",
       "      <td>False</td>\n",
       "      <td>False</td>\n",
       "      <td>False</td>\n",
       "      <td>False</td>\n",
       "      <td>False</td>\n",
       "      <td>False</td>\n",
       "      <td>True</td>\n",
       "      <td>True</td>\n",
       "      <td>False</td>\n",
       "      <td>False</td>\n",
       "    </tr>\n",
       "  </tbody>\n",
       "</table>\n",
       "<p>48895 rows × 16 columns</p>\n",
       "</div>"
      ],
      "text/plain": [
       "          id   name  host_id  host_name  neighbourhood_group  neighbourhood  \\\n",
       "0      False  False    False      False                False          False   \n",
       "1      False  False    False      False                False          False   \n",
       "2      False  False    False      False                False          False   \n",
       "3      False  False    False      False                False          False   \n",
       "4      False  False    False      False                False          False   \n",
       "...      ...    ...      ...        ...                  ...            ...   \n",
       "48890  False  False    False      False                False          False   \n",
       "48891  False  False    False      False                False          False   \n",
       "48892  False  False    False      False                False          False   \n",
       "48893  False  False    False      False                False          False   \n",
       "48894  False  False    False      False                False          False   \n",
       "\n",
       "       latitude  longitude  room_type  price  minimum_nights  \\\n",
       "0         False      False      False  False           False   \n",
       "1         False      False      False  False           False   \n",
       "2         False      False      False  False           False   \n",
       "3         False      False      False  False           False   \n",
       "4         False      False      False  False           False   \n",
       "...         ...        ...        ...    ...             ...   \n",
       "48890     False      False      False  False           False   \n",
       "48891     False      False      False  False           False   \n",
       "48892     False      False      False  False           False   \n",
       "48893     False      False      False  False           False   \n",
       "48894     False      False      False  False           False   \n",
       "\n",
       "       number_of_reviews  last_review  reviews_per_month  \\\n",
       "0                  False        False              False   \n",
       "1                  False        False              False   \n",
       "2                  False         True               True   \n",
       "3                  False        False              False   \n",
       "4                  False        False              False   \n",
       "...                  ...          ...                ...   \n",
       "48890              False         True               True   \n",
       "48891              False         True               True   \n",
       "48892              False         True               True   \n",
       "48893              False         True               True   \n",
       "48894              False         True               True   \n",
       "\n",
       "       calculated_host_listings_count  availability_365  \n",
       "0                               False             False  \n",
       "1                               False             False  \n",
       "2                               False             False  \n",
       "3                               False             False  \n",
       "4                               False             False  \n",
       "...                               ...               ...  \n",
       "48890                           False             False  \n",
       "48891                           False             False  \n",
       "48892                           False             False  \n",
       "48893                           False             False  \n",
       "48894                           False             False  \n",
       "\n",
       "[48895 rows x 16 columns]"
      ]
     },
     "execution_count": 44,
     "metadata": {},
     "output_type": "execute_result"
    }
   ],
   "source": [
    "#A Boolean for every single value saying whether the value is missing or not\n",
    "sales.isna()"
   ]
  },
  {
   "cell_type": "code",
   "execution_count": 51,
   "id": "6f7907f3-cdec-4887-b67c-fb40cb09be9c",
   "metadata": {},
   "outputs": [
    {
     "data": {
      "text/plain": [
       "id                                False\n",
       "name                               True\n",
       "host_id                           False\n",
       "host_name                          True\n",
       "neighbourhood_group               False\n",
       "neighbourhood                     False\n",
       "latitude                          False\n",
       "longitude                         False\n",
       "room_type                         False\n",
       "price                             False\n",
       "minimum_nights                    False\n",
       "number_of_reviews                 False\n",
       "last_review                        True\n",
       "reviews_per_month                  True\n",
       "calculated_host_listings_count    False\n",
       "availability_365                  False\n",
       "dtype: bool"
      ]
     },
     "execution_count": 51,
     "metadata": {},
     "output_type": "execute_result"
    }
   ],
   "source": [
    "#A Boolean Series for each column saying whether the value is missing or not\n",
    "sales.isna().any()"
   ]
  },
  {
   "cell_type": "code",
   "execution_count": 24,
   "id": "9730d68a-d0e8-446f-86b4-24cecc800aa7",
   "metadata": {},
   "outputs": [
    {
     "data": {
      "text/plain": [
       "id                                    0\n",
       "name                                 16\n",
       "host_id                               0\n",
       "host_name                            21\n",
       "neighbourhood_group                   0\n",
       "neighbourhood                         0\n",
       "latitude                              0\n",
       "longitude                             0\n",
       "room_type                             0\n",
       "price                                 0\n",
       "minimum_nights                        0\n",
       "number_of_reviews                     0\n",
       "last_review                       10052\n",
       "reviews_per_month                 10052\n",
       "calculated_host_listings_count        0\n",
       "availability_365                      0\n",
       "dtype: int64"
      ]
     },
     "execution_count": 24,
     "metadata": {},
     "output_type": "execute_result"
    }
   ],
   "source": [
    "#Count the number of NAs for each variable\n",
    "sales.isna().sum()"
   ]
  },
  {
   "cell_type": "markdown",
   "id": "b557590b-4016-4f9d-82e5-2d500114b5de",
   "metadata": {},
   "source": [
    "### 1.2 Handling of misssing values —— deletion\n",
    "In case there are missing values but the variables of missing values do not affect the analysis, drop the variables directly"
   ]
  },
  {
   "cell_type": "code",
   "execution_count": 60,
   "id": "7118b533-3a77-4ffd-b1c3-aeffaee252ad",
   "metadata": {},
   "outputs": [
    {
     "name": "stdout",
     "output_type": "stream",
     "text": [
      "\n",
      "modified：\n",
      "              id   host_id neighbourhood_group       neighbourhood  latitude  \\\n",
      "0          2539      2787            Brooklyn          Kensington  40.64749   \n",
      "1          2595      2845           Manhattan             Midtown  40.75362   \n",
      "2          3647      4632           Manhattan              Harlem  40.80902   \n",
      "3          3831      4869            Brooklyn        Clinton Hill  40.68514   \n",
      "4          5022      7192           Manhattan         East Harlem  40.79851   \n",
      "...         ...       ...                 ...                 ...       ...   \n",
      "48890  36484665   8232441            Brooklyn  Bedford-Stuyvesant  40.67853   \n",
      "48891  36485057   6570630            Brooklyn            Bushwick  40.70184   \n",
      "48892  36485431  23492952           Manhattan              Harlem  40.81475   \n",
      "48893  36485609  30985759           Manhattan      Hell's Kitchen  40.75751   \n",
      "48894  36487245  68119814           Manhattan      Hell's Kitchen  40.76404   \n",
      "\n",
      "       longitude        room_type  price  minimum_nights  number_of_reviews  \\\n",
      "0      -73.97237     Private room    149               1                  9   \n",
      "1      -73.98377  Entire home/apt    225               1                 45   \n",
      "2      -73.94190     Private room    150               3                  0   \n",
      "3      -73.95976  Entire home/apt     89               1                270   \n",
      "4      -73.94399  Entire home/apt     80              10                  9   \n",
      "...          ...              ...    ...             ...                ...   \n",
      "48890  -73.94995     Private room     70               2                  0   \n",
      "48891  -73.93317     Private room     40               4                  0   \n",
      "48892  -73.94867  Entire home/apt    115              10                  0   \n",
      "48893  -73.99112      Shared room     55               1                  0   \n",
      "48894  -73.98933     Private room     90               7                  0   \n",
      "\n",
      "       calculated_host_listings_count  availability_365  \n",
      "0                                   6               365  \n",
      "1                                   2               355  \n",
      "2                                   1               365  \n",
      "3                                   1               194  \n",
      "4                                   1                 0  \n",
      "...                               ...               ...  \n",
      "48890                               2                 9  \n",
      "48891                               2                36  \n",
      "48892                               1                27  \n",
      "48893                               6                 2  \n",
      "48894                               1                23  \n",
      "\n",
      "[48895 rows x 12 columns]\n"
     ]
    }
   ],
   "source": [
    "# drop them\n",
    "sales_cleaned = sales.dropna(axis=1)\n",
    "print(\"\\nmodified：\\n\", sales_cleaned)"
   ]
  },
  {
   "cell_type": "markdown",
   "id": "f0d584b4-cde5-49d4-a5c8-713cc658ef87",
   "metadata": {},
   "source": [
    "### 1.3 Recheck"
   ]
  },
  {
   "cell_type": "code",
   "execution_count": 28,
   "id": "57501f32-706a-4e4b-82d8-4a9b50e9d025",
   "metadata": {},
   "outputs": [
    {
     "data": {
      "text/html": [
       "<div>\n",
       "<style scoped>\n",
       "    .dataframe tbody tr th:only-of-type {\n",
       "        vertical-align: middle;\n",
       "    }\n",
       "\n",
       "    .dataframe tbody tr th {\n",
       "        vertical-align: top;\n",
       "    }\n",
       "\n",
       "    .dataframe thead th {\n",
       "        text-align: right;\n",
       "    }\n",
       "</style>\n",
       "<table border=\"1\" class=\"dataframe\">\n",
       "  <thead>\n",
       "    <tr style=\"text-align: right;\">\n",
       "      <th></th>\n",
       "      <th>id</th>\n",
       "      <th>host_id</th>\n",
       "      <th>neighbourhood_group</th>\n",
       "      <th>neighbourhood</th>\n",
       "      <th>latitude</th>\n",
       "      <th>longitude</th>\n",
       "      <th>room_type</th>\n",
       "      <th>price</th>\n",
       "      <th>minimum_nights</th>\n",
       "      <th>number_of_reviews</th>\n",
       "      <th>calculated_host_listings_count</th>\n",
       "      <th>availability_365</th>\n",
       "    </tr>\n",
       "  </thead>\n",
       "  <tbody>\n",
       "    <tr>\n",
       "      <th>0</th>\n",
       "      <td>False</td>\n",
       "      <td>False</td>\n",
       "      <td>False</td>\n",
       "      <td>False</td>\n",
       "      <td>False</td>\n",
       "      <td>False</td>\n",
       "      <td>False</td>\n",
       "      <td>False</td>\n",
       "      <td>False</td>\n",
       "      <td>False</td>\n",
       "      <td>False</td>\n",
       "      <td>False</td>\n",
       "    </tr>\n",
       "    <tr>\n",
       "      <th>1</th>\n",
       "      <td>False</td>\n",
       "      <td>False</td>\n",
       "      <td>False</td>\n",
       "      <td>False</td>\n",
       "      <td>False</td>\n",
       "      <td>False</td>\n",
       "      <td>False</td>\n",
       "      <td>False</td>\n",
       "      <td>False</td>\n",
       "      <td>False</td>\n",
       "      <td>False</td>\n",
       "      <td>False</td>\n",
       "    </tr>\n",
       "    <tr>\n",
       "      <th>2</th>\n",
       "      <td>False</td>\n",
       "      <td>False</td>\n",
       "      <td>False</td>\n",
       "      <td>False</td>\n",
       "      <td>False</td>\n",
       "      <td>False</td>\n",
       "      <td>False</td>\n",
       "      <td>False</td>\n",
       "      <td>False</td>\n",
       "      <td>False</td>\n",
       "      <td>False</td>\n",
       "      <td>False</td>\n",
       "    </tr>\n",
       "    <tr>\n",
       "      <th>3</th>\n",
       "      <td>False</td>\n",
       "      <td>False</td>\n",
       "      <td>False</td>\n",
       "      <td>False</td>\n",
       "      <td>False</td>\n",
       "      <td>False</td>\n",
       "      <td>False</td>\n",
       "      <td>False</td>\n",
       "      <td>False</td>\n",
       "      <td>False</td>\n",
       "      <td>False</td>\n",
       "      <td>False</td>\n",
       "    </tr>\n",
       "    <tr>\n",
       "      <th>4</th>\n",
       "      <td>False</td>\n",
       "      <td>False</td>\n",
       "      <td>False</td>\n",
       "      <td>False</td>\n",
       "      <td>False</td>\n",
       "      <td>False</td>\n",
       "      <td>False</td>\n",
       "      <td>False</td>\n",
       "      <td>False</td>\n",
       "      <td>False</td>\n",
       "      <td>False</td>\n",
       "      <td>False</td>\n",
       "    </tr>\n",
       "    <tr>\n",
       "      <th>...</th>\n",
       "      <td>...</td>\n",
       "      <td>...</td>\n",
       "      <td>...</td>\n",
       "      <td>...</td>\n",
       "      <td>...</td>\n",
       "      <td>...</td>\n",
       "      <td>...</td>\n",
       "      <td>...</td>\n",
       "      <td>...</td>\n",
       "      <td>...</td>\n",
       "      <td>...</td>\n",
       "      <td>...</td>\n",
       "    </tr>\n",
       "    <tr>\n",
       "      <th>48890</th>\n",
       "      <td>False</td>\n",
       "      <td>False</td>\n",
       "      <td>False</td>\n",
       "      <td>False</td>\n",
       "      <td>False</td>\n",
       "      <td>False</td>\n",
       "      <td>False</td>\n",
       "      <td>False</td>\n",
       "      <td>False</td>\n",
       "      <td>False</td>\n",
       "      <td>False</td>\n",
       "      <td>False</td>\n",
       "    </tr>\n",
       "    <tr>\n",
       "      <th>48891</th>\n",
       "      <td>False</td>\n",
       "      <td>False</td>\n",
       "      <td>False</td>\n",
       "      <td>False</td>\n",
       "      <td>False</td>\n",
       "      <td>False</td>\n",
       "      <td>False</td>\n",
       "      <td>False</td>\n",
       "      <td>False</td>\n",
       "      <td>False</td>\n",
       "      <td>False</td>\n",
       "      <td>False</td>\n",
       "    </tr>\n",
       "    <tr>\n",
       "      <th>48892</th>\n",
       "      <td>False</td>\n",
       "      <td>False</td>\n",
       "      <td>False</td>\n",
       "      <td>False</td>\n",
       "      <td>False</td>\n",
       "      <td>False</td>\n",
       "      <td>False</td>\n",
       "      <td>False</td>\n",
       "      <td>False</td>\n",
       "      <td>False</td>\n",
       "      <td>False</td>\n",
       "      <td>False</td>\n",
       "    </tr>\n",
       "    <tr>\n",
       "      <th>48893</th>\n",
       "      <td>False</td>\n",
       "      <td>False</td>\n",
       "      <td>False</td>\n",
       "      <td>False</td>\n",
       "      <td>False</td>\n",
       "      <td>False</td>\n",
       "      <td>False</td>\n",
       "      <td>False</td>\n",
       "      <td>False</td>\n",
       "      <td>False</td>\n",
       "      <td>False</td>\n",
       "      <td>False</td>\n",
       "    </tr>\n",
       "    <tr>\n",
       "      <th>48894</th>\n",
       "      <td>False</td>\n",
       "      <td>False</td>\n",
       "      <td>False</td>\n",
       "      <td>False</td>\n",
       "      <td>False</td>\n",
       "      <td>False</td>\n",
       "      <td>False</td>\n",
       "      <td>False</td>\n",
       "      <td>False</td>\n",
       "      <td>False</td>\n",
       "      <td>False</td>\n",
       "      <td>False</td>\n",
       "    </tr>\n",
       "  </tbody>\n",
       "</table>\n",
       "<p>48895 rows × 12 columns</p>\n",
       "</div>"
      ],
      "text/plain": [
       "          id  host_id  neighbourhood_group  neighbourhood  latitude  \\\n",
       "0      False    False                False          False     False   \n",
       "1      False    False                False          False     False   \n",
       "2      False    False                False          False     False   \n",
       "3      False    False                False          False     False   \n",
       "4      False    False                False          False     False   \n",
       "...      ...      ...                  ...            ...       ...   \n",
       "48890  False    False                False          False     False   \n",
       "48891  False    False                False          False     False   \n",
       "48892  False    False                False          False     False   \n",
       "48893  False    False                False          False     False   \n",
       "48894  False    False                False          False     False   \n",
       "\n",
       "       longitude  room_type  price  minimum_nights  number_of_reviews  \\\n",
       "0          False      False  False           False              False   \n",
       "1          False      False  False           False              False   \n",
       "2          False      False  False           False              False   \n",
       "3          False      False  False           False              False   \n",
       "4          False      False  False           False              False   \n",
       "...          ...        ...    ...             ...                ...   \n",
       "48890      False      False  False           False              False   \n",
       "48891      False      False  False           False              False   \n",
       "48892      False      False  False           False              False   \n",
       "48893      False      False  False           False              False   \n",
       "48894      False      False  False           False              False   \n",
       "\n",
       "       calculated_host_listings_count  availability_365  \n",
       "0                               False             False  \n",
       "1                               False             False  \n",
       "2                               False             False  \n",
       "3                               False             False  \n",
       "4                               False             False  \n",
       "...                               ...               ...  \n",
       "48890                           False             False  \n",
       "48891                           False             False  \n",
       "48892                           False             False  \n",
       "48893                           False             False  \n",
       "48894                           False             False  \n",
       "\n",
       "[48895 rows x 12 columns]"
      ]
     },
     "execution_count": 28,
     "metadata": {},
     "output_type": "execute_result"
    }
   ],
   "source": [
    "#Recheck the missing values in\"modified\"\n",
    "sales_cleaned.isna()"
   ]
  },
  {
   "cell_type": "code",
   "execution_count": 30,
   "id": "790a9485-d1e9-4f71-a9cb-c82eee19ff52",
   "metadata": {},
   "outputs": [
    {
     "data": {
      "text/plain": [
       "id                                False\n",
       "host_id                           False\n",
       "neighbourhood_group               False\n",
       "neighbourhood                     False\n",
       "latitude                          False\n",
       "longitude                         False\n",
       "room_type                         False\n",
       "price                             False\n",
       "minimum_nights                    False\n",
       "number_of_reviews                 False\n",
       "calculated_host_listings_count    False\n",
       "availability_365                  False\n",
       "dtype: bool"
      ]
     },
     "execution_count": 30,
     "metadata": {},
     "output_type": "execute_result"
    }
   ],
   "source": [
    "sales_cleaned.isna().any()"
   ]
  },
  {
   "cell_type": "code",
   "execution_count": 32,
   "id": "19954976-c63a-41e9-89fd-f96649df00ae",
   "metadata": {},
   "outputs": [
    {
     "data": {
      "text/plain": [
       "id                                0\n",
       "host_id                           0\n",
       "neighbourhood_group               0\n",
       "neighbourhood                     0\n",
       "latitude                          0\n",
       "longitude                         0\n",
       "room_type                         0\n",
       "price                             0\n",
       "minimum_nights                    0\n",
       "number_of_reviews                 0\n",
       "calculated_host_listings_count    0\n",
       "availability_365                  0\n",
       "dtype: int64"
      ]
     },
     "execution_count": 32,
     "metadata": {},
     "output_type": "execute_result"
    }
   ],
   "source": [
    "sales_cleaned.isna().sum()"
   ]
  },
  {
   "cell_type": "markdown",
   "id": "ef965e67-926f-45d0-b34a-7a961809a737",
   "metadata": {},
   "source": [
    "### 1.4 Select and save\n",
    "    For the new dataset:\n",
    "    Rangeindex: 48895 entries, 0 to 48894\n",
    "    Data columns(total 5 colunmns): neighbourhood group, neighbourhood, room type, price and number of reviews\n",
    "    The types of neighbourhood group, neighbourhood and room type are object. The type of price and number of reviews are int64"
   ]
  },
  {
   "cell_type": "code",
   "execution_count": 36,
   "id": "c1a7e827-875d-483e-b9b1-b413e6ef9a9c",
   "metadata": {},
   "outputs": [
    {
     "name": "stdout",
     "output_type": "stream",
     "text": [
      "      neighbourhood_group       neighbourhood        room_type  price  \\\n",
      "0                Brooklyn          Kensington     Private room    149   \n",
      "1               Manhattan             Midtown  Entire home/apt    225   \n",
      "2               Manhattan              Harlem     Private room    150   \n",
      "3                Brooklyn        Clinton Hill  Entire home/apt     89   \n",
      "4               Manhattan         East Harlem  Entire home/apt     80   \n",
      "...                   ...                 ...              ...    ...   \n",
      "48890            Brooklyn  Bedford-Stuyvesant     Private room     70   \n",
      "48891            Brooklyn            Bushwick     Private room     40   \n",
      "48892           Manhattan              Harlem  Entire home/apt    115   \n",
      "48893           Manhattan      Hell's Kitchen      Shared room     55   \n",
      "48894           Manhattan      Hell's Kitchen     Private room     90   \n",
      "\n",
      "       number_of_reviews  \n",
      "0                      9  \n",
      "1                     45  \n",
      "2                      0  \n",
      "3                    270  \n",
      "4                      9  \n",
      "...                  ...  \n",
      "48890                  0  \n",
      "48891                  0  \n",
      "48892                  0  \n",
      "48893                  0  \n",
      "48894                  0  \n",
      "\n",
      "[48895 rows x 5 columns]\n"
     ]
    }
   ],
   "source": [
    "#select variables\n",
    "sales_sel = sales_cleaned[['neighbourhood_group','neighbourhood','room_type','price','number_of_reviews']]\n",
    "print(sales_sel)"
   ]
  },
  {
   "cell_type": "code",
   "execution_count": 64,
   "id": "1e50c46f-b4f2-4bf6-8210-a43408649cbc",
   "metadata": {},
   "outputs": [
    {
     "name": "stdout",
     "output_type": "stream",
     "text": [
      "<class 'pandas.core.frame.DataFrame'>\n",
      "RangeIndex: 48895 entries, 0 to 48894\n",
      "Data columns (total 5 columns):\n",
      " #   Column               Non-Null Count  Dtype \n",
      "---  ------               --------------  ----- \n",
      " 0   neighbourhood_group  48895 non-null  object\n",
      " 1   neighbourhood        48895 non-null  object\n",
      " 2   room_type            48895 non-null  object\n",
      " 3   price                48895 non-null  int64 \n",
      " 4   number_of_reviews    48895 non-null  int64 \n",
      "dtypes: int64(2), object(3)\n",
      "memory usage: 1.9+ MB\n"
     ]
    }
   ],
   "source": [
    "sales_sel.info()"
   ]
  },
  {
   "cell_type": "code",
   "execution_count": 38,
   "id": "e8f96041-4a84-494a-a2ce-855ffa555a7d",
   "metadata": {},
   "outputs": [],
   "source": [
    "# save the modified dataframe \n",
    "sales_sel.to_csv('AB_2_modified.csv')"
   ]
  },
  {
   "cell_type": "markdown",
   "id": "d6687eb6-96df-4153-973b-85b99b8accc7",
   "metadata": {},
   "source": [
    "## 2. Descriptive Statistical Analysis"
   ]
  },
  {
   "cell_type": "markdown",
   "id": "9030be69-3b12-4446-9a6c-c285c41147af",
   "metadata": {},
   "source": [
    "### 2.1 price\n",
    "    There are 48895 numbers in price. Their mean is about 152.72. Standard deviation is about 240.15. The range is from 0 to 10000. Then the first quartile is 69，the second quatile is 106 and the third quartile is 175. The median of price is 106.\n",
    "    The graph shows the price distribution of Airbnb listings in NYC.\n",
    "    The distribution is heavily right-skewed, the vast majority of listings are concentrated in the lower price range.\n",
    "    And it shows a very tall peak near the lower price range, the highest frequency occurs around the $0-500 range, with approximately 45,000 times.The frequency drops dramatically after the peak. There's a long tail extending towards higher prices. Very few observations are priced above $2,000\n",
    "    \n",
    "    Finding: This suggests that the object of NYC's Airbnb market is the budget-conscious and middle-market travelers."
   ]
  },
  {
   "cell_type": "code",
   "execution_count": 209,
   "id": "ce5a3bc2-4df4-452e-bd31-df818c738b62",
   "metadata": {},
   "outputs": [
    {
     "name": "stdout",
     "output_type": "stream",
     "text": [
      "count    48895.000000\n",
      "mean       152.720687\n",
      "std        240.154170\n",
      "min          0.000000\n",
      "25%         69.000000\n",
      "50%        106.000000\n",
      "75%        175.000000\n",
      "max      10000.000000\n",
      "Name: price, dtype: float64\n",
      "median: 106.0\n"
     ]
    },
    {
     "data": {
      "image/png": "[encoded data removed]",
      "text/plain": [
       "<Figure size 1000x600 with 1 Axes>"
      ]
     },
     "metadata": {},
     "output_type": "display_data"
    }
   ],
   "source": [
    "#descriptive\n",
    "price_desc = sales_sel['price'].describe()\n",
    "print(price_desc)\n",
    "median = np.median(sales_sel['price'])\n",
    "print(f\"median: {median}\")\n",
    "#visualization\n",
    "plt.figure(figsize=(10, 6))\n",
    "sns.histplot(sales_sel['price'], bins=30, kde=True)\n",
    "plt.title('1. Price Distribution of Airbnb Listings in NYC')\n",
    "plt.xlabel('Price')\n",
    "plt.ylabel('Frequency')\n",
    "plt.show()"
   ]
  },
  {
   "cell_type": "markdown",
   "id": "006b4797-b582-49f7-996c-67f72cd1ffa7",
   "metadata": {},
   "source": [
    "### 2.2 price-neighbourhood group\n",
    "    1.The figure of Mean price by neighourhood group shows:\n",
    "    Manhattan has the highest mean price at approximately $195 per night\n",
    "    The Bronx has the lowest mean price at around $85 per night\n",
    "    -Findings:\n",
    "    Clear price hierarchy exists among the groups\n",
    "    Large price gap between Manhattan and other groups. Hence, Manhattan likely has a central location or business district proximity\n",
    "    \n",
    "    2. The boxplot of price by neibourhood group shows:\n",
    "    All neighborhoods show right-skewed distributions (mean > median)\n",
    "    Magnitude of skewness varies significantly by groups\n",
    "    Manhattan shows most extreme skewness\n",
    "    Manhattan:\n",
    "    Highest concentration of high-priced listings\n",
    "    Many outliers in upper price ranges, high outliers pulling mean upward substantially\n",
    "    Brooklyn:\n",
    "    Similar pattern to Manhattan but slightly lower prices\n",
    "    Queens:\n",
    "    Fewer extreme outliers\n",
    "    Most prices concentrated in lower ranges\n",
    "    Staten Island:\n",
    "    Fewer outliers overall\n",
    "    Bronx:\n",
    "    Most concentrated in lower price range \n",
    "    Fewest outliers\n",
    "    Smallest gap between mean and median\n",
    "    -Findings:\n",
    "    All areas have some upscale hotel (outliers)\n",
    "    Base prices (box area) relatively similar across groups\n",
    "    Luxury market strongest in Manhattan and Brooklyn\n",
    "    Outer group focus more on budget-friendly options"
   ]
  },
  {
   "cell_type": "code",
   "execution_count": 211,
   "id": "f09b7e5b-0eb1-40e6-a91b-c7d2997c42d1",
   "metadata": {},
   "outputs": [
    {
     "data": {
      "image/png": "[encoded data removed]",
      "text/plain": [
       "<Figure size 640x480 with 1 Axes>"
      ]
     },
     "metadata": {},
     "output_type": "display_data"
    }
   ],
   "source": [
    "# Visualize and compare the average price across different neighbour group\n",
    "# Prepare the data: get the mean price of each neighbour\n",
    "sales_sel_mean_group = sales_sel.groupby('neighbourhood_group')['price'].mean()\n",
    "\n",
    "# Method 1: Using the plot method from pandas\n",
    "sales_sel_mean_group.plot(kind = 'bar', rot = 0)\n",
    "\n",
    "# Add a main title and labels for the x and y axes\n",
    "plt.title('2. Mean price by neighbourhood group')\n",
    "plt.xlabel('neighbourhood group')\n",
    "plt.ylabel('Mean price')\n",
    "\n",
    "# Show the plot\n",
    "plt.show()"
   ]
  },
  {
   "cell_type": "code",
   "execution_count": 231,
   "id": "d066766c-d375-4a0c-8463-2f48d2202112",
   "metadata": {},
   "outputs": [
    {
     "data": {
      "image/png": "[encoded data removed]",
      "text/plain": [
       "<Figure size 640x480 with 1 Axes>"
      ]
     },
     "metadata": {},
     "output_type": "display_data"
    }
   ],
   "source": [
    "df = pd.read_csv('AB_2_modified.csv')\n",
    "\n",
    "fig, ax = plt.subplots()\n",
    "Brooklyn = df[df['neighbourhood_group'] == 'Brooklyn']\n",
    "Manhattan = df[df['neighbourhood_group'] == 'Manhattan']\n",
    "Queens = df[df['neighbourhood_group'] == 'Queens']\n",
    "Staten_Island = df[df['neighbourhood_group'] == 'Staten Island']\n",
    "Bronx = df[df['neighbourhood_group'] == 'Bronx']\n",
    "\n",
    "ax.boxplot([Brooklyn['price'],\n",
    "             Manhattan['price'],\n",
    "           Queens['price'],\n",
    "           Staten_Island['price'],\n",
    "           Bronx['price']])\n",
    "ax.set_xticklabels(['Brooklyn','Manhattan','Queens','Staten Island','Bronx'])\n",
    "ax.set_ylabel('price')\n",
    "ax.set_title('3. Price by neighbourhood group')\n",
    "ax.set_xlabel('neighbourhood group')\n",
    "\n",
    "plt.show()"
   ]
  },
  {
   "cell_type": "markdown",
   "id": "7025801d-e16d-4184-bd16-b6df65016c6e",
   "metadata": {},
   "source": [
    "### 2.3 price - neighbourhood group - room type\n",
    "    The figure4 shows:\n",
    "    Manhattan has the highest prices across all accommodation types, Staten Island and the Bronx generally have lower prices, Brooklyn and Queens fall in the middle range\n",
    "    Entire home/apartments (blue bars) are consistently the most expensive option, private rooms (orange bars) are the second most expensive, shared rooms (green bars) are consistently the least expensive\n",
    "    The gap between entire homes and private rooms is largest in Manhattan\n",
    "    All groups maintain the same pricing hierarchy: entire home > private room > shared room\n",
    "\n",
    "    Findings:\n",
    "    Manhattan has a significant premium across all accommodation types\n",
    "    Outer groups (especially Bronx and Staten Island) offer more affordable options\n",
    "    Brooklyn prices suggest it's the second most expensive borough for accommodations"
   ]
  },
  {
   "cell_type": "code",
   "execution_count": 179,
   "id": "d070e442-549c-4159-b828-9feb1b94583a",
   "metadata": {},
   "outputs": [
    {
     "data": {
      "text/html": [
       "<div>\n",
       "<style scoped>\n",
       "    .dataframe tbody tr th:only-of-type {\n",
       "        vertical-align: middle;\n",
       "    }\n",
       "\n",
       "    .dataframe tbody tr th {\n",
       "        vertical-align: top;\n",
       "    }\n",
       "\n",
       "    .dataframe thead th {\n",
       "        text-align: right;\n",
       "    }\n",
       "</style>\n",
       "<table border=\"1\" class=\"dataframe\">\n",
       "  <thead>\n",
       "    <tr style=\"text-align: right;\">\n",
       "      <th>room_type</th>\n",
       "      <th>Entire home/apt</th>\n",
       "      <th>Private room</th>\n",
       "      <th>Shared room</th>\n",
       "    </tr>\n",
       "    <tr>\n",
       "      <th>neighbourhood_group</th>\n",
       "      <th></th>\n",
       "      <th></th>\n",
       "      <th></th>\n",
       "    </tr>\n",
       "  </thead>\n",
       "  <tbody>\n",
       "    <tr>\n",
       "      <th>Bronx</th>\n",
       "      <td>379</td>\n",
       "      <td>652</td>\n",
       "      <td>60</td>\n",
       "    </tr>\n",
       "    <tr>\n",
       "      <th>Brooklyn</th>\n",
       "      <td>9559</td>\n",
       "      <td>10132</td>\n",
       "      <td>413</td>\n",
       "    </tr>\n",
       "    <tr>\n",
       "      <th>Manhattan</th>\n",
       "      <td>13199</td>\n",
       "      <td>7982</td>\n",
       "      <td>480</td>\n",
       "    </tr>\n",
       "    <tr>\n",
       "      <th>Queens</th>\n",
       "      <td>2096</td>\n",
       "      <td>3372</td>\n",
       "      <td>198</td>\n",
       "    </tr>\n",
       "    <tr>\n",
       "      <th>Staten Island</th>\n",
       "      <td>176</td>\n",
       "      <td>188</td>\n",
       "      <td>9</td>\n",
       "    </tr>\n",
       "  </tbody>\n",
       "</table>\n",
       "</div>"
      ],
      "text/plain": [
       "room_type            Entire home/apt  Private room  Shared room\n",
       "neighbourhood_group                                            \n",
       "Bronx                            379           652           60\n",
       "Brooklyn                        9559         10132          413\n",
       "Manhattan                      13199          7982          480\n",
       "Queens                          2096          3372          198\n",
       "Staten Island                    176           188            9"
      ]
     },
     "execution_count": 179,
     "metadata": {},
     "output_type": "execute_result"
    }
   ],
   "source": [
    "#compute the price of each room type of each neighbourhood group\n",
    "avg_price = df.groupby(['neighbourhood_group', 'room_type'])['price'].mean().unstack()\n",
    "\n",
    "pd.crosstab(df['neighbourhood_group'], df['room_type'])"
   ]
  },
  {
   "cell_type": "code",
   "execution_count": 343,
   "id": "3a3fe715-3277-4ed2-b29c-98c94cdcb756",
   "metadata": {},
   "outputs": [
    {
     "data": {
      "image/png": "[encoded data removed]",
      "text/plain": [
       "<Figure size 1200x600 with 1 Axes>"
      ]
     },
     "metadata": {},
     "output_type": "display_data"
    }
   ],
   "source": [
    "plt.figure(figsize=(12, 6))\n",
    "sns.barplot(x='neighbourhood_group', y='price', hue='room_type', data=avg_price)\n",
    "\n",
    "plt.title('4. group-room type-mean price', fontsize=12)\n",
    "plt.xlabel('neighbourhood group', fontsize=10)\n",
    "plt.ylabel('mean price', fontsize=10)\n",
    "plt.legend(title='type')\n",
    "plt.tight_layout()\n",
    "plt.show()"
   ]
  },
  {
   "cell_type": "markdown",
   "id": "1de19151-87f9-4ea4-9d82-a5a9613e9c72",
   "metadata": {},
   "source": [
    "### 2.4 price - number of reviews\n",
    "    Figure5 shows:\n",
    "    Properties with high prices (>$4,000) tend to have fewer reviews (<20)\n",
    "    Properties with many reviews (>300) tend to have lower prices (<$1,000)\n",
    "    But There appear to be a weakly negative correlation between price and number of reviews\n",
    "    \n",
    "    Findings\n",
    "    More affordable properties tend to get more reviews, suggesting higher booking frequency, high-price properties receive fewer reviews, possibly due to lower booking frequency, so price and number of reviews don't have linear in this case.\n",
    "    The most reviewed properties are in the middle to lower price range, suggesting this is the most active market segment\n"
   ]
  },
  {
   "cell_type": "code",
   "execution_count": 245,
   "id": "d3c10439-722d-41bf-8362-d494bc1b8c81",
   "metadata": {},
   "outputs": [
    {
     "data": {
      "image/png": "[encoded data removed]",
      "text/plain": [
       "<Figure size 1000x600 with 1 Axes>"
      ]
     },
     "metadata": {},
     "output_type": "display_data"
    }
   ],
   "source": [
    "data = pd.read_csv('AB_2_modified.csv')  \n",
    "df = pd.DataFrame(data)\n",
    "\n",
    "plt.figure(figsize=(10, 6))\n",
    "sns.scatterplot(x='number_of_reviews', y='price', data=df, color='blue', s=100)\n",
    "\n",
    "sns.regplot(x='number_of_reviews', y='price', data=df, scatter=False, color='red')\n",
    "\n",
    "plt.title('5. Price and number of Reviews', fontsize=16)\n",
    "plt.xlabel('Number of Reviews', fontsize=14)\n",
    "plt.ylabel('Price', fontsize=14)\n",
    "plt.grid(True)\n",
    "plt.show()\n"
   ]
  },
  {
   "cell_type": "markdown",
   "id": "0f1446f4-0b9f-448d-8a60-a12a4dcee692",
   "metadata": {},
   "source": [
    "## 3. Hypothesis Testing "
   ]
  },
  {
   "cell_type": "markdown",
   "id": "c8aa3873-3cf9-4a35-a7c9-a7ddd705299f",
   "metadata": {},
   "source": [
    "### 3.1\n",
    "We could test whether **at least one** neighbourhood group has a different average price. Let $\\mu_1,\\mu_2,\\mu_3,\\mu_4,\\mu_5$ denote the average pice for different neighbourhood group.   \n",
    "\n",
    "$H_0:  \\mu_1 = \\mu_2 = \\mu_3 = \\mu_4 = \\mu_5 $ $\\quad$ vs $\\quad$ $H_1:\\text{not all five population means are equal}$.\n",
    "\n",
    "    The resutls of testing:\n",
    "    p-value = 0.0000 (< 0.05)\n",
    "    This strongly confirms our previous conclusion that there are significant differences in housing prices among the five neighborhood groups"
   ]
  },
  {
   "cell_type": "code",
   "execution_count": 307,
   "id": "4861520c-ce45-4352-856b-6a8d18875d3c",
   "metadata": {},
   "outputs": [
    {
     "name": "stdout",
     "output_type": "stream",
     "text": [
      "Normality Tests:\n",
      "Group Brooklyn - Shapiro-Wilk Test: Statistic=0.2808, p-value=0.0000\n",
      "Group Manhattan - Shapiro-Wilk Test: Statistic=0.3184, p-value=0.0000\n",
      "Group Queens - Shapiro-Wilk Test: Statistic=0.2047, p-value=0.0000\n",
      "Group Staten Island - Shapiro-Wilk Test: Statistic=0.1819, p-value=0.0000\n",
      "Group Bronx - Shapiro-Wilk Test: Statistic=0.3793, p-value=0.0000\n"
     ]
    },
    {
     "name": "stderr",
     "output_type": "stream",
     "text": [
      "C:\\ProgramData\\anaconda3\\Lib\\site-packages\\scipy\\stats\\_axis_nan_policy.py:531: UserWarning: scipy.stats.shapiro: For N > 5000, computed p-value may not be accurate. Current N is 20104.\n",
      "  res = hypotest_fun_out(*samples, **kwds)\n",
      "C:\\ProgramData\\anaconda3\\Lib\\site-packages\\scipy\\stats\\_axis_nan_policy.py:531: UserWarning: scipy.stats.shapiro: For N > 5000, computed p-value may not be accurate. Current N is 21661.\n",
      "  res = hypotest_fun_out(*samples, **kwds)\n",
      "C:\\ProgramData\\anaconda3\\Lib\\site-packages\\scipy\\stats\\_axis_nan_policy.py:531: UserWarning: scipy.stats.shapiro: For N > 5000, computed p-value may not be accurate. Current N is 5666.\n",
      "  res = hypotest_fun_out(*samples, **kwds)\n"
     ]
    }
   ],
   "source": [
    "from scipy.stats import shapiro\n",
    "from scipy.stats import f_oneway\n",
    "\n",
    "groups = df['neighbourhood_group'].unique()\n",
    "prices_by_group = [df[df['neighbourhood_group'] == group]['price'] for group in groups]\n",
    "\n",
    "# Test normality for each group\n",
    "print(\"Normality Tests:\")\n",
    "for i, prices in enumerate(prices_by_group):\n",
    "    stat, p_value = shapiro(prices)\n",
    "    print(f\"Group {groups[i]} - Shapiro-Wilk Test: Statistic={stat:.4f}, p-value={p_value:.4f}\")\n"
   ]
  },
  {
   "cell_type": "markdown",
   "id": "6dedf889-e452-4e4e-bf71-3a506b4a1cd8",
   "metadata": {},
   "source": [
    "In the normality test all five groups (Brooklyn, Manhattan, Queens, Staten Island, and Bronx) have p-values = 0.0000, which is < 0.05. This means the price data in each neighborhood group significantly deviates from a normal distribution, so we should use a non-parametric alternative to ANOVA, specifically the Kruskal-Wallis test."
   ]
  },
  {
   "cell_type": "code",
   "execution_count": 303,
   "id": "222adb9e-39bd-4b09-90c7-30f03d36c6ad",
   "metadata": {},
   "outputs": [
    {
     "name": "stdout",
     "output_type": "stream",
     "text": [
      "\n",
      "Kruskal-Wallis Test Results:\n",
      "H-statistic: 7027.2408\n",
      "p-value: 0.0000\n",
      "\n",
      "Interpretation:\n",
      "Reject H0 at 0.05 significance level.\n",
      "There is sufficient evidence to conclude that not all five population means are equal.\n"
     ]
    }
   ],
   "source": [
    "from scipy.stats import kruskal\n",
    "\n",
    "# Perform Kruskal-Wallis H-test\n",
    "h_stat, p_value_kw = kruskal(*prices_by_group)\n",
    "print(\"\\nKruskal-Wallis Test Results:\")\n",
    "print(f\"H-statistic: {h_stat:.4f}\")\n",
    "print(f\"p-value: {p_value_kw:.4f}\"\n",
    "# Print interpretation\n",
    "alpha = 0.05\n",
    "print(\"\\nInterpretation:\")\n",
    "if p_value < alpha:\n",
    "    print(f\"Reject H0 at {alpha} significance level.\")\n",
    "    print(\"There is sufficient evidence to conclude that not all five population means are equal.\")\n",
    "else:\n",
    "    print(f\"Fail to reject H0 at {alpha} significance level.\")\n",
    "    print(\"There is not enough evidence to conclude that the population means differ.\")"
   ]
  },
  {
   "cell_type": "markdown",
   "id": "184f9633-7b4a-4bfb-ac9a-8749d020ad71",
   "metadata": {},
   "source": [
    "### 3.2 \n",
    "This test assesses the strength and direction of the **linear relationship** between two the number of reviews and price. $H_0: \\text{There is no linear correlation between the number of reviews and price, } \\rho = 0$ $\\quad$ vs $\\quad$ $H_1:\\text{There is linear correlation between the two variables, } \\rho \\neq 0$ "
   ]
  },
  {
   "cell_type": "code",
   "execution_count": 323,
   "id": "2bb3e5d7-a496-48a8-aadc-34aa09996b4c",
   "metadata": {},
   "outputs": [
    {
     "name": "stdout",
     "output_type": "stream",
     "text": [
      "Pearson Correlation Coefficient: -0.0480, p-value: 0.0000\n"
     ]
    }
   ],
   "source": [
    "from scipy.stats import pearsonr  #, spearmanr\n",
    "\n",
    "# Perform Pearson Correlation Test\n",
    "# Keep only samples with valid reviews and price data\n",
    "clean_data = df.dropna(subset=['number_of_reviews', 'price'])\n",
    "\n",
    "# Run the test\n",
    "pearson_corr, pearson_p = pearsonr(clean_data['number_of_reviews'], clean_data['price'])\n",
    "\n",
    "# Output the results with four decimal places\n",
    "print(f\"Pearson Correlation Coefficient: {pearson_corr:.4f}, p-value: {pearson_p:.4f}\")\n"
   ]
  },
  {
   "cell_type": "markdown",
   "id": "debcea2f-9a79-4335-bc4a-49d04d9ba790",
   "metadata": {},
   "source": [
    "p-value < 0.05 : reject H0. There is a significant correlation between number of reviews and price.\n",
    "However, this correlation is extremely weak (correlation coefficient of only -0.048).\n",
    "Hence, there is virtually no meaningful association between price levels and number of reviews."
   ]
  },
  {
   "cell_type": "markdown",
   "id": "0aa53475-2e55-4144-8058-90113ddbb35c",
   "metadata": {},
   "source": [
    "## 4. Summary\n"
   ]
  },
  {
   "cell_type": "markdown",
   "id": "fbfc609a-5846-4dc3-a78f-5f40d8ecd591",
   "metadata": {},
   "source": [
    "    Pricing Strategy Recommendations for New York City Airbnb Hosts:\n",
    " \n",
    "    neighbouhood groop-based Price Differentiation:  \n",
    "    Manhattan: Highest price potential across all accommodation types, particularly strong premium for entire home/apartment listings;\n",
    "    Brooklyn: Positions as second most expensive borough;\n",
    "    Queens: Mid-range pricing territory;\n",
    "    Staten Island & Bronx: Lower price points, more affordable pricing structure required, and focus on value proposition for budget-conscious travelers\n",
    "\n",
    "    A consistent pricing hierarchy exists across all boroughs:\n",
    "    Entire home/apartments: Highest price point\n",
    "    Private rooms: Medium price point\n",
    "    Shared rooms: Lowest price point"
   ]
  },
  {
   "cell_type": "markdown",
   "id": "85320788-e72a-42f7-bf1c-0beee84c0593",
   "metadata": {},
   "source": [
    "## 5. Role of Human and Generative AI"
   ]
  },
  {
   "cell_type": "markdown",
   "id": "14ad78cc-8c82-47cc-aec3-31355fc9fcc6",
   "metadata": {},
   "source": [
    "    In my project, AI is an excellent assistant by helping me identify and fix code errors in Jupyter Notebook, providing guidance when I lack solutions, and explaining unfamiliar concept, as previously demonstrated 3.1 hypothesis testing where it helped me understand the need to switch from ANOVA to the Kruskal-Wallis test for non-normal data.\n",
    "    While AI has significantly improved my efficiency and saved time in report writing, I've realized that over-reliance on AI faces to challenges for developing skills, particularly in understanding code logic, as I might simply apply its solutions without deep comprehension.\n",
    "    Therefore, I've concluded that while AI serves as an excellent assistant for my assignment, it's crucial to maintain my own thinking framework and code implementation based on personal understanding, ensuring AI remains a supportive tool rather than the primary driver of my work."
   ]
  },
  {
   "cell_type": "markdown",
   "id": "286b2d02-4eb6-4fc7-9b84-7b49a5c43260",
   "metadata": {},
   "source": [
    "## 6. References"
   ]
  },
  {
   "cell_type": "markdown",
   "id": "c7d6ed40-40d8-40a0-ba17-6ab508771585",
   "metadata": {},
   "source": [
    "    [1]Weiss, Neil(2010). Introductory Statistics, 9th ed. Pearson.\n",
    "    [2]Kerns, G.J.(2010). Introduction to probability and Statistics using r.\n",
    "    [3]Kruskal, W. H., & Wallis, W. A. (1952). \"Use of ranks in one-criterion variance analysis.\" Journal of the American Statistical Association, 47(260), 583-621."
   ]
  }
 ],
 "metadata": {
  "kernelspec": {
   "display_name": "Python 3 (ipykernel)",
   "language": "python",
   "name": "python3"
  },
  "language_info": {
   "codemirror_mode": {
    "name": "ipython",
    "version": 3
   },
   "file_extension": ".py",
   "mimetype": "text/x-python",
   "name": "python",
   "nbconvert_exporter": "python",
   "pygments_lexer": "ipython3",
   "version": "3.12.4"
  }
 },
 "nbformat": 4,
 "nbformat_minor": 5
}
